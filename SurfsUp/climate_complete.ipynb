{
 "cells": [
  {
   "cell_type": "code",
   "execution_count": 38,
   "metadata": {},
   "outputs": [],
   "source": [
    "%matplotlib inline\n",
    "from matplotlib import style\n",
    "style.use('fivethirtyeight')\n",
    "import matplotlib.pyplot as plt"
   ]
  },
  {
   "cell_type": "code",
   "execution_count": 39,
   "metadata": {},
   "outputs": [],
   "source": [
    "import numpy as np\n",
    "import pandas as pd\n",
    "import datetime as dt"
   ]
  },
  {
   "cell_type": "markdown",
   "metadata": {},
   "source": [
    "# Reflect Tables into SQLAlchemy ORM"
   ]
  },
  {
   "cell_type": "code",
   "execution_count": 204,
   "metadata": {},
   "outputs": [],
   "source": [
    "# Python SQL toolkit and Object Relational Mapper\n",
    "import sqlalchemy\n",
    "from sqlalchemy.ext.automap import automap_base\n",
    "from sqlalchemy.orm import Session\n",
    "from sqlalchemy import create_engine, func, desc"
   ]
  },
  {
   "cell_type": "code",
   "execution_count": 41,
   "metadata": {},
   "outputs": [],
   "source": [
    "# create engine to hawaii.sqlite\n",
    "engine = create_engine('sqlite:///Resources/hawaii.sqlite')"
   ]
  },
  {
   "cell_type": "code",
   "execution_count": 42,
   "metadata": {},
   "outputs": [],
   "source": [
    "# reflect an existing database into a new model\n",
    "Base = automap_base()\n",
    "# reflect the tables\n",
    "Base.prepare(autoload_with=engine)"
   ]
  },
  {
   "cell_type": "code",
   "execution_count": 43,
   "metadata": {},
   "outputs": [
    {
     "data": {
      "text/plain": [
       "['measurement', 'station']"
      ]
     },
     "execution_count": 43,
     "metadata": {},
     "output_type": "execute_result"
    }
   ],
   "source": [
    "# View all of the classes that automap found\n",
    "Base.classes.keys()"
   ]
  },
  {
   "cell_type": "code",
   "execution_count": 44,
   "metadata": {},
   "outputs": [],
   "source": [
    "# Save references to each table\n",
    "Measurement = Base.classes.measurement\n",
    "Station = Base.classes.station"
   ]
  },
  {
   "cell_type": "code",
   "execution_count": 45,
   "metadata": {},
   "outputs": [],
   "source": [
    "# Create our session (link) from Python to the DB\n",
    "session = Session(engine)"
   ]
  },
  {
   "cell_type": "markdown",
   "metadata": {},
   "source": [
    "# Exploratory Precipitation Analysis"
   ]
  },
  {
   "cell_type": "code",
   "execution_count": 48,
   "metadata": {},
   "outputs": [
    {
     "name": "stdout",
     "output_type": "stream",
     "text": [
      "2017-08-23\n"
     ]
    }
   ],
   "source": [
    "# Find the most recent date in the data set.\n",
    "most_recent = session.query(Measurement.date).order_by(Measurement.date.desc()).first()\n",
    "print(most_recent.date)"
   ]
  },
  {
   "cell_type": "code",
   "execution_count": 254,
   "metadata": {},
   "outputs": [
    {
     "data": {
      "image/png": "[encoded data removed]",
      "text/plain": [
       "<Figure size 432x288 with 1 Axes>"
      ]
     },
     "metadata": {},
     "output_type": "display_data"
    }
   ],
   "source": [
    "# Design a query to retrieve the last 12 months of precipitation data and plot the results. \n",
    "# Starting from the most recent data point in the database. \n",
    "# Calculate the date one year from the last date in data set.\n",
    "query_date=dt.date(2017,8,23)-dt.timedelta(days=365)\n",
    "\n",
    "# Perform a query to retrieve the data and precipitation scores\n",
    "sel = [Measurement.date,\n",
    "      Measurement.prcp]\n",
    "      \n",
    "last_year_data= session.query(*sel).\\\n",
    "    filter(func.strftime(Measurement.date)>=query_date).\\\n",
    "    order_by(Measurement.date)\n",
    "\n",
    "# Save the query results as a Pandas DataFrame and set the index to the date column\n",
    "last_year_df = pd.DataFrame(last_year_data, columns=['date', 'precipitation'])\n",
    "last_year_df.set_index('date')\n",
    "\n",
    "#Sort the dataframe by date\n",
    "sorted_df['date'] = pd.to_datetime(sorted_df['date'])\n",
    "sorted_df['date'] = sorted_df['date'].map(lambda dt: dt.strftime('%Y-%m-%d'))\n",
    "\n",
    "#Use Pandas Plotting with Matplotlib to plot the data\n",
    "\n",
    "#format data and plot\n",
    "datetime_series = pd.to_datetime(sorted_df['date'])\n",
    "datetime_index  = pd.DatetimeIndex(datetime_series.values)\n",
    "sorted_df.set_index(datetime_index, inplace=True)\n",
    "listOf_Yticks=[1,2,3,4,5,6,7]\n",
    "sorted_df.plot(x='date', y='precipitation', rot=90, figsize=(6,4))\n",
    "plt.tight_layout()\n",
    "plt.ylabel('Inches')\n",
    "plt.xlabel('Date')\n",
    "plt.locator_params(axis=\"x\", nbins=9)\n",
    "plt.ylim([0,7])\n",
    "plt.yticks(listOf_Yticks)\n",
    "\n",
    "plt.show()\n"
   ]
  },
  {
   "cell_type": "code",
   "execution_count": 186,
   "metadata": {},
   "outputs": [
    {
     "data": {
      "text/html": [
       "<div>\n",
       "<style scoped>\n",
       "    .dataframe tbody tr th:only-of-type {\n",
       "        vertical-align: middle;\n",
       "    }\n",
       "\n",
       "    .dataframe tbody tr th {\n",
       "        vertical-align: top;\n",
       "    }\n",
       "\n",
       "    .dataframe thead tr th {\n",
       "        text-align: left;\n",
       "    }\n",
       "\n",
       "    .dataframe thead tr:last-of-type th {\n",
       "        text-align: right;\n",
       "    }\n",
       "</style>\n",
       "<table border=\"1\" class=\"dataframe\">\n",
       "  <thead>\n",
       "    <tr>\n",
       "      <th></th>\n",
       "      <th colspan=\"6\" halign=\"left\">precipitation</th>\n",
       "    </tr>\n",
       "    <tr>\n",
       "      <th></th>\n",
       "      <th>count</th>\n",
       "      <th>mean</th>\n",
       "      <th>median</th>\n",
       "      <th>sum</th>\n",
       "      <th>std</th>\n",
       "      <th>sem</th>\n",
       "    </tr>\n",
       "    <tr>\n",
       "      <th>date</th>\n",
       "      <th></th>\n",
       "      <th></th>\n",
       "      <th></th>\n",
       "      <th></th>\n",
       "      <th></th>\n",
       "      <th></th>\n",
       "    </tr>\n",
       "  </thead>\n",
       "  <tbody>\n",
       "    <tr>\n",
       "      <th>2016-08-23</th>\n",
       "      <td>6</td>\n",
       "      <td>0.451667</td>\n",
       "      <td>0.100</td>\n",
       "      <td>2.71</td>\n",
       "      <td>0.706468</td>\n",
       "      <td>0.288414</td>\n",
       "    </tr>\n",
       "    <tr>\n",
       "      <th>2016-08-24</th>\n",
       "      <td>6</td>\n",
       "      <td>1.555000</td>\n",
       "      <td>1.800</td>\n",
       "      <td>9.33</td>\n",
       "      <td>0.840541</td>\n",
       "      <td>0.343150</td>\n",
       "    </tr>\n",
       "    <tr>\n",
       "      <th>2016-08-25</th>\n",
       "      <td>7</td>\n",
       "      <td>0.077143</td>\n",
       "      <td>0.080</td>\n",
       "      <td>0.54</td>\n",
       "      <td>0.071813</td>\n",
       "      <td>0.027143</td>\n",
       "    </tr>\n",
       "    <tr>\n",
       "      <th>2016-08-26</th>\n",
       "      <td>6</td>\n",
       "      <td>0.016667</td>\n",
       "      <td>0.015</td>\n",
       "      <td>0.10</td>\n",
       "      <td>0.016330</td>\n",
       "      <td>0.006667</td>\n",
       "    </tr>\n",
       "    <tr>\n",
       "      <th>2016-08-27</th>\n",
       "      <td>5</td>\n",
       "      <td>0.064000</td>\n",
       "      <td>0.020</td>\n",
       "      <td>0.32</td>\n",
       "      <td>0.081731</td>\n",
       "      <td>0.036551</td>\n",
       "    </tr>\n",
       "    <tr>\n",
       "      <th>...</th>\n",
       "      <td>...</td>\n",
       "      <td>...</td>\n",
       "      <td>...</td>\n",
       "      <td>...</td>\n",
       "      <td>...</td>\n",
       "      <td>...</td>\n",
       "    </tr>\n",
       "    <tr>\n",
       "      <th>2017-08-19</th>\n",
       "      <td>3</td>\n",
       "      <td>0.030000</td>\n",
       "      <td>0.000</td>\n",
       "      <td>0.09</td>\n",
       "      <td>0.051962</td>\n",
       "      <td>0.030000</td>\n",
       "    </tr>\n",
       "    <tr>\n",
       "      <th>2017-08-20</th>\n",
       "      <td>2</td>\n",
       "      <td>0.005000</td>\n",
       "      <td>0.005</td>\n",
       "      <td>0.01</td>\n",
       "      <td>0.007071</td>\n",
       "      <td>0.005000</td>\n",
       "    </tr>\n",
       "    <tr>\n",
       "      <th>2017-08-21</th>\n",
       "      <td>3</td>\n",
       "      <td>0.193333</td>\n",
       "      <td>0.020</td>\n",
       "      <td>0.58</td>\n",
       "      <td>0.317700</td>\n",
       "      <td>0.183424</td>\n",
       "    </tr>\n",
       "    <tr>\n",
       "      <th>2017-08-22</th>\n",
       "      <td>3</td>\n",
       "      <td>0.166667</td>\n",
       "      <td>0.000</td>\n",
       "      <td>0.50</td>\n",
       "      <td>0.288675</td>\n",
       "      <td>0.166667</td>\n",
       "    </tr>\n",
       "    <tr>\n",
       "      <th>2017-08-23</th>\n",
       "      <td>4</td>\n",
       "      <td>0.132500</td>\n",
       "      <td>0.040</td>\n",
       "      <td>0.53</td>\n",
       "      <td>0.215000</td>\n",
       "      <td>0.107500</td>\n",
       "    </tr>\n",
       "  </tbody>\n",
       "</table>\n",
       "<p>366 rows × 6 columns</p>\n",
       "</div>"
      ],
      "text/plain": [
       "           precipitation                                           \n",
       "                   count      mean median   sum       std       sem\n",
       "date                                                               \n",
       "2016-08-23             6  0.451667  0.100  2.71  0.706468  0.288414\n",
       "2016-08-24             6  1.555000  1.800  9.33  0.840541  0.343150\n",
       "2016-08-25             7  0.077143  0.080  0.54  0.071813  0.027143\n",
       "2016-08-26             6  0.016667  0.015  0.10  0.016330  0.006667\n",
       "2016-08-27             5  0.064000  0.020  0.32  0.081731  0.036551\n",
       "...                  ...       ...    ...   ...       ...       ...\n",
       "2017-08-19             3  0.030000  0.000  0.09  0.051962  0.030000\n",
       "2017-08-20             2  0.005000  0.005  0.01  0.007071  0.005000\n",
       "2017-08-21             3  0.193333  0.020  0.58  0.317700  0.183424\n",
       "2017-08-22             3  0.166667  0.000  0.50  0.288675  0.166667\n",
       "2017-08-23             4  0.132500  0.040  0.53  0.215000  0.107500\n",
       "\n",
       "[366 rows x 6 columns]"
      ]
     },
     "execution_count": 186,
     "metadata": {},
     "output_type": "execute_result"
    }
   ],
   "source": [
    "# Use Pandas to calcualte the summary statistics for the precipitation data\n",
    "last_year_sum_df = last_year_df.groupby([\"date\"])[[\"precipitation\"]].agg([\"count\",\"mean\",\"median\",\"sum\",\"std\",\"sem\"])\n",
    "last_year_sum_df\n",
    "\n",
    "#alternative summary statitics for the precipitaion data\n",
    "last_year_sum_df.describe()"
   ]
  },
  {
   "cell_type": "markdown",
   "metadata": {},
   "source": [
    "# Exploratory Station Analysis"
   ]
  },
  {
   "cell_type": "code",
   "execution_count": 195,
   "metadata": {},
   "outputs": [
    {
     "name": "stdout",
     "output_type": "stream",
     "text": [
      "9\n"
     ]
    }
   ],
   "source": [
    "# Design a query to calculate the total number stations in the dataset\n",
    "total_count = session.query(Station).distinct().count()\n",
    "print(total_count)"
   ]
  },
  {
   "cell_type": "code",
   "execution_count": 249,
   "metadata": {},
   "outputs": [
    {
     "data": {
      "text/plain": [
       "('USC00519281', 2772)"
      ]
     },
     "execution_count": 249,
     "metadata": {},
     "output_type": "execute_result"
    }
   ],
   "source": [
    "# Design a query to find the most active stations (i.e. what stations have the most rows?)\n",
    "# List the stations and the counts in descending order.\n",
    "sel = [Measurement.station,\n",
    "     func.count(Measurement.id).label('qty')]\n",
    "\n",
    "station_freq= session.query(*sel).\\\n",
    "    group_by(Measurement.station).\\\n",
    "    order_by(desc('qty'))\n",
    "station_freq\n",
    "\n",
    "# Save the query results as a Pandas DataFrame\n",
    "station_freq_df = pd.DataFrame(station_freq, columns=['Station', 'Count'])\n",
    "\n",
    "#store and display most popular station and count of observations\n",
    "popular_station = station_freq.first()\n",
    "popular_station"
   ]
  },
  {
   "cell_type": "code",
   "execution_count": 243,
   "metadata": {},
   "outputs": [
    {
     "data": {
      "text/html": [
       "<div>\n",
       "<style scoped>\n",
       "    .dataframe tbody tr th:only-of-type {\n",
       "        vertical-align: middle;\n",
       "    }\n",
       "\n",
       "    .dataframe tbody tr th {\n",
       "        vertical-align: top;\n",
       "    }\n",
       "\n",
       "    .dataframe thead th {\n",
       "        text-align: right;\n",
       "    }\n",
       "</style>\n",
       "<table border=\"1\" class=\"dataframe\">\n",
       "  <thead>\n",
       "    <tr style=\"text-align: right;\">\n",
       "      <th></th>\n",
       "      <th>max</th>\n",
       "      <th>min</th>\n",
       "      <th>avg</th>\n",
       "    </tr>\n",
       "  </thead>\n",
       "  <tbody>\n",
       "    <tr>\n",
       "      <th>0</th>\n",
       "      <td>85.0</td>\n",
       "      <td>54.0</td>\n",
       "      <td>71.663781</td>\n",
       "    </tr>\n",
       "  </tbody>\n",
       "</table>\n",
       "</div>"
      ],
      "text/plain": [
       "    max   min        avg\n",
       "0  85.0  54.0  71.663781"
      ]
     },
     "execution_count": 243,
     "metadata": {},
     "output_type": "execute_result"
    }
   ],
   "source": [
    "# Using the most active station id from the previous query, calculate the lowest, highest, and average temperature.\n",
    "sel = [func.max(Measurement.tobs).label('max'),\n",
    "      func.min(Measurement.tobs).label('min'),\n",
    "      func.avg(Measurement.tobs).label('avg')]\n",
    "\n",
    "popular_data = session.query(*sel).\\\n",
    "   filter(Measurement.station == 'USC00519281')\n",
    "\n",
    "# Save the query results as a Pandas DataFrame and display results\n",
    "popular_data_df = pd.DataFrame(popular_data, columns=['max', 'min', 'avg'])\n",
    "popular_data_df    "
   ]
  },
  {
   "cell_type": "code",
   "execution_count": 294,
   "metadata": {},
   "outputs": [
    {
     "data": {
      "image/png": "[encoded data removed]",
      "text/plain": [
       "<Figure size 432x288 with 1 Axes>"
      ]
     },
     "metadata": {},
     "output_type": "display_data"
    }
   ],
   "source": [
    "# Using the most active station id\n",
    "# Query the last 12 months of temperature observation data for this station and plot the results as a histogram\n",
    "\n",
    "popular_observations = session.query(Measurement.tobs).\\\n",
    "    filter(func.strftime(Measurement.date)>=query_date).\\\n",
    "    filter(Measurement.station == 'USC00519281')    \n",
    "\n",
    "popular_observations_df = pd.DataFrame(popular_observations, columns=['tobs'])\n",
    "popular_observations_df.set_index('tobs')\n",
    "\n",
    "plt.hist(popular_observations_df, bins=12)\n",
    "plt.xlabel(\"Temperature\")\n",
    "plt.ylabel(\"Frequency\")\n",
    "plt.legend(popular_observations_df)\n",
    "plt.show()"
   ]
  },
  {
   "cell_type": "markdown",
   "metadata": {},
   "source": [
    "# Close session"
   ]
  },
  {
   "cell_type": "code",
   "execution_count": null,
   "metadata": {},
   "outputs": [],
   "source": [
    "# Close Session\n",
    "session.close()"
   ]
  },
  {
   "cell_type": "code",
   "execution_count": null,
   "metadata": {},
   "outputs": [],
   "source": []
  }
 ],
 "metadata": {
  "anaconda-cloud": {},
  "kernel_info": {
   "name": "python3"
  },
  "kernelspec": {
   "display_name": "Python 3 (ipykernel)",
   "language": "python",
   "name": "python3"
  },
  "language_info": {
   "codemirror_mode": {
    "name": "ipython",
    "version": 3
   },
   "file_extension": ".py",
   "mimetype": "text/x-python",
   "name": "python",
   "nbconvert_exporter": "python",
   "pygments_lexer": "ipython3",
   "version": "3.9.12"
  },
  "nteract": {
   "version": "0.12.3"
  },
  "varInspector": {
   "cols": {
    "lenName": 16,
    "lenType": 16,
    "lenVar": 40
   },
   "kernels_config": {
    "python": {
     "delete_cmd_postfix": "",
     "delete_cmd_prefix": "del ",
     "library": "var_list.py",
     "varRefreshCmd": "print(var_dic_list())"
    },
    "r": {
     "delete_cmd_postfix": ") ",
     "delete_cmd_prefix": "rm(",
     "library": "var_list.r",
     "varRefreshCmd": "cat(var_dic_list()) "
    }
   },
   "types_to_exclude": [
    "module",
    "function",
    "builtin_function_or_method",
    "instance",
    "_Feature"
   ],
   "window_display": false
  }
 },
 "nbformat": 4,
 "nbformat_minor": 2
}
